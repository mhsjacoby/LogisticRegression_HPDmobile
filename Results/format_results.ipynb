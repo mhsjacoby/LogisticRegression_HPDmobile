{
 "cells": [
  {
   "cell_type": "code",
   "execution_count": 1,
   "metadata": {},
   "outputs": [],
   "source": [
    "import os\n",
    "import sys\n",
    "from glob import glob\n",
    "import pandas as pd\n",
    "\n",
    "import seaborn as sns\n",
    "import matplotlib.pyplot as plt\n",
    "%matplotlib inline"
   ]
  },
  {
   "cell_type": "code",
   "execution_count": 2,
   "metadata": {},
   "outputs": [
    {
     "data": {
      "text/plain": [
       "'/Users/maggie/Documents/Github/LogisticRegression_HPDmobile'"
      ]
     },
     "execution_count": 2,
     "metadata": {},
     "output_type": "execute_result"
    }
   ],
   "source": [
    "parent_dir = os.path.dirname(os.getcwd())\n",
    "\n",
    "parent_dir"
   ]
  },
  {
   "cell_type": "code",
   "execution_count": 14,
   "metadata": {},
   "outputs": [
    {
     "name": "stdout",
     "output_type": "stream",
     "text": [
      "test       H1      H2      H3      H4      H5      H6\n",
      "train                                                \n",
      "H1     0.8566  0.4568  0.8219  0.1458  0.8895  0.7185\n",
      "H2     0.8566  0.7664  0.7817  0.5064  0.8935  0.2841\n",
      "H3     0.8464  0.6493  0.8698  0.5064  0.8906  0.2841\n",
      "H4     0.8464  0.6553  0.8254  0.7743  0.8895  0.2841\n",
      "H5     0.8464  0.6766  0.8125  0.8601  0.8895  0.2841\n",
      "H6     0.8458  0.7421  0.8259  0.3914  0.8802  0.5621\n",
      "/Users/maggie/Documents/Github/LogisticRegression_HPDmobile/Results/Tables/full_noCV_zeroFill\n"
     ]
    }
   ],
   "source": [
    "def create_test_train_table(result_file, result_type='AR predictions', metric='F1s'):\n",
    "    to_read = glob(os.path.join(parent_dir, 'Results', result_file, '*_2_metrics.csv'))[0]\n",
    "#     print(os.path.join(parent_dir, 'Results', result_file, '*_metrics.csv'))\n",
    "    \n",
    "    metrics = pd.read_csv(to_read)\n",
    "    metrics = metrics.loc[metrics['function'] == result_type][['Accuracy', 'F1', 'F1 neg', 'train', 'test']]\n",
    "    \n",
    "    if metric == 'F1s':\n",
    "        metrics['F1s'] = metrics.apply(lambda x: f'{x[\"F1\"]:.2} / {x[\"F1 neg\"]:.2}', axis=1)\n",
    "    else:\n",
    "        tt_table = metrics.pivot(index='train', columns='test', values=metric)\n",
    "    tt_table = metrics.pivot(index='train', columns='test', values=metric)\n",
    "    print(tt_table)\n",
    "\n",
    "    \n",
    "    table_save_dir = os.path.join(parent_dir, 'Results', 'Tables', result_file)\n",
    "    print(table_save_dir)\n",
    "    #     os.makedirs(table_save_dir, exist_ok=True)\n",
    "#     tt_table.to_csv(os.path.join(table_save_dir, f'{result_type}_{metric}_2.csv'))\n",
    "    \n",
    "create_test_train_table(result_type='AR predictions', result_file='full_noCV_zeroFill', metric='Accuracy')"
   ]
  },
  {
   "cell_type": "code",
   "execution_count": 79,
   "metadata": {},
   "outputs": [
    {
     "name": "stdout",
     "output_type": "stream",
     "text": [
      "test            H1            H2           H3             H4            H5  \\\n",
      "train                                                                        \n",
      "H1     0.88 / 0.26   0.78 / 0.26  0.88 / 0.34   0.89 / 0.083  0.86 / 0.014   \n",
      "H2      0.73 / 0.2   0.73 / 0.52  0.72 / 0.29    0.84 / 0.29   0.68 / 0.18   \n",
      "H3     0.88 / 0.23   0.81 / 0.35  0.89 / 0.39     0.9 / 0.17   0.87 / 0.07   \n",
      "H4     0.91 / 0.15  0.78 / 0.097  0.88 / 0.13  0.91 / 0.0059  0.91 / 0.021   \n",
      "H5     0.83 / 0.13   0.73 / 0.21  0.82 / 0.17    0.81 / 0.14   0.89 / 0.24   \n",
      "H6     0.78 / 0.36   0.75 / 0.52  0.81 / 0.49    0.75 / 0.14   0.74 / 0.18   \n",
      "\n",
      "test            H6  \n",
      "train               \n",
      "H1     0.44 / 0.24  \n",
      "H2      0.36 / 0.5  \n",
      "H3     0.44 / 0.23  \n",
      "H4      0.45 / 0.1  \n",
      "H5     0.46 / 0.31  \n",
      "H6     0.46 / 0.53  \n",
      "test       H1      H2      H3      H4      H5      H6\n",
      "train                                                \n",
      "H1     0.7989  0.6572  0.7951  0.8036  0.7483  0.3553\n",
      "H2     0.5981  0.6528  0.5957  0.7366  0.5440  0.4395\n",
      "H3     0.7960  0.7009  0.8130  0.8244  0.7679  0.3544\n",
      "H4     0.8311  0.6508  0.7956  0.8328  0.8380  0.3149\n",
      "H5     0.7103  0.5962  0.7044  0.6880  0.8044  0.3921\n",
      "H6     0.6775  0.6677  0.7282  0.6106  0.6100  0.4972\n",
      "test            H1            H2           H3             H4            H5  \\\n",
      "train                                                                        \n",
      "H1     0.88 / 0.26   0.78 / 0.26  0.88 / 0.34   0.89 / 0.083  0.86 / 0.014   \n",
      "H2      0.73 / 0.2   0.73 / 0.52  0.72 / 0.29    0.84 / 0.29   0.68 / 0.18   \n",
      "H3     0.88 / 0.23   0.81 / 0.35  0.89 / 0.39     0.9 / 0.17   0.87 / 0.07   \n",
      "H4     0.91 / 0.15  0.78 / 0.097  0.88 / 0.13  0.91 / 0.0059  0.91 / 0.021   \n",
      "H5     0.83 / 0.13   0.73 / 0.21  0.82 / 0.17    0.81 / 0.14   0.89 / 0.24   \n",
      "H6     0.78 / 0.36   0.75 / 0.52  0.81 / 0.49    0.75 / 0.14   0.74 / 0.18   \n",
      "\n",
      "test            H6  \n",
      "train               \n",
      "H1     0.44 / 0.24  \n",
      "H2      0.36 / 0.5  \n",
      "H3     0.44 / 0.23  \n",
      "H4      0.45 / 0.1  \n",
      "H5     0.46 / 0.31  \n",
      "H6     0.46 / 0.53  \n",
      "test       H1      H2      H3      H4      H5      H6\n",
      "train                                                \n",
      "H1     0.7989  0.6572  0.7951  0.8036  0.7483  0.3553\n",
      "H2     0.5981  0.6528  0.5957  0.7366  0.5440  0.4395\n",
      "H3     0.7960  0.7009  0.8130  0.8244  0.7679  0.3544\n",
      "H4     0.8311  0.6508  0.7956  0.8328  0.8380  0.3149\n",
      "H5     0.7103  0.5962  0.7044  0.6880  0.8044  0.3921\n",
      "H6     0.6775  0.6677  0.7282  0.6106  0.6100  0.4972\n"
     ]
    }
   ],
   "source": [
    "for cv in ['CV', 'noCV']:\n",
    "    fname = f'full_{cv}_zeroFill'\n",
    "    for m in ['F1s', 'Accuracy']:\n",
    "        create_test_train_table(result_type='Nonparametric', result_file=fname, metric=m)\n",
    "        "
   ]
  },
  {
   "cell_type": "code",
   "execution_count": null,
   "metadata": {},
   "outputs": [],
   "source": [
    "create_test_train_table(result_type='Nonparametric', result_file=fname, metric=m)\n"
   ]
  },
  {
   "cell_type": "code",
   "execution_count": null,
   "metadata": {},
   "outputs": [],
   "source": []
  }
 ],
 "metadata": {
  "kernelspec": {
   "display_name": "Python 3",
   "language": "python",
   "name": "python3"
  },
  "language_info": {
   "codemirror_mode": {
    "name": "ipython",
    "version": 3
   },
   "file_extension": ".py",
   "mimetype": "text/x-python",
   "name": "python",
   "nbconvert_exporter": "python",
   "pygments_lexer": "ipython3",
   "version": "3.7.4"
  }
 },
 "nbformat": 4,
 "nbformat_minor": 4
}
