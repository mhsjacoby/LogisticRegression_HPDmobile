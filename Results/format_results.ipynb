{
 "cells": [
  {
   "cell_type": "code",
   "execution_count": 6,
   "metadata": {},
   "outputs": [],
   "source": [
    "import os\n",
    "import sys\n",
    "from glob import glob\n",
    "import pandas as pd\n",
    "\n",
    "import seaborn as sns\n",
    "import matplotlib.pyplot as plt\n",
    "%matplotlib inline"
   ]
  },
  {
   "cell_type": "code",
   "execution_count": 6,
   "metadata": {},
   "outputs": [
    {
     "data": {
      "text/plain": [
       "'/Users/maggie/Documents/Github/LogisticRegression_HPDmobile'"
      ]
     },
     "execution_count": 6,
     "metadata": {},
     "output_type": "execute_result"
    }
   ],
   "source": [
    "parent_dir = os.path.dirname(os.getcwd())\n",
    "\n",
    "parent_dir"
   ]
  },
  {
   "cell_type": "code",
   "execution_count": 78,
   "metadata": {},
   "outputs": [
    {
     "name": "stdout",
     "output_type": "stream",
     "text": [
      "test             H1             H2           H3            H4            H5  \\\n",
      "train                                                                         \n",
      "H1      0.93 / 0.59  0.0075 / 0.51  0.91 / 0.28    0.0 / 0.25   0.77 / 0.24   \n",
      "H2      0.92 / 0.13     0.85 / 0.7   0.9 / 0.12   0.16 / 0.26    0.94 / 0.0   \n",
      "H3      0.91 / 0.59   0.037 / 0.51  0.95 / 0.75    0.0 / 0.25   0.47 / 0.26   \n",
      "H4       0.92 / 0.0    0.81 / 0.38  0.91 / 0.37  0.86 / 0.069  0.94 / 0.031   \n",
      "H5      0.95 / 0.62   0.015 / 0.51   0.9 / 0.13    0.0 / 0.25   0.84 / 0.19   \n",
      "H6     0.84 / 0.091    0.8 / 0.034   0.9 / 0.15    0.92 / 0.0   0.91 / 0.17   \n",
      "\n",
      "test            H6  \n",
      "train               \n",
      "H1      0.0 / 0.83  \n",
      "H2     0.49 / 0.33  \n",
      "H3     0.11 / 0.84  \n",
      "H4      0.44 / 0.0  \n",
      "H5      0.0 / 0.83  \n",
      "H6     0.36 / 0.56  \n"
     ]
    }
   ],
   "source": [
    "def create_test_train_table(result_file, result_type='AR predictions', metric='F1s'):\n",
    "    to_read = glob(os.path.join(parent_dir, 'Results', result_file, '*_metrics.csv'))[0]\n",
    "    metrics = pd.read_csv(to_read)\n",
    "    metrics = metrics.loc[metrics['function'] == result_type][['Accuracy', 'F1', 'F1 neg', 'train', 'test']]\n",
    "    \n",
    "    if metric == 'F1s':\n",
    "        metrics['F1s'] = metrics.apply(lambda x: f'{x[\"F1\"]:.2} / {x[\"F1 neg\"]:.2}', axis=1)\n",
    "    else:\n",
    "        tt_table = metrics.pivot(index='train', columns='test', values=metric)\n",
    "    tt_table = metrics.pivot(index='train', columns='test', values=metric)\n",
    "    print(tt_table)\n",
    "\n",
    "    \n",
    "    table_save_dir = os.path.join(parent_dir, 'Results', 'Tables', result_file)\n",
    "    os.makedirs(table_save_dir, exist_ok=True)\n",
    "    tt_table.to_csv(os.path.join(table_save_dir, f'{result_type}_{metric}.csv'))\n",
    "    \n",
    "create_test_train_table(result_type='AR predictions', result_file='full_CV_zeroFill', metric='F1s')"
   ]
  },
  {
   "cell_type": "code",
   "execution_count": 79,
   "metadata": {},
   "outputs": [
    {
     "name": "stdout",
     "output_type": "stream",
     "text": [
      "test            H1            H2           H3             H4            H5  \\\n",
      "train                                                                        \n",
      "H1     0.88 / 0.26   0.78 / 0.26  0.88 / 0.34   0.89 / 0.083  0.86 / 0.014   \n",
      "H2      0.73 / 0.2   0.73 / 0.52  0.72 / 0.29    0.84 / 0.29   0.68 / 0.18   \n",
      "H3     0.88 / 0.23   0.81 / 0.35  0.89 / 0.39     0.9 / 0.17   0.87 / 0.07   \n",
      "H4     0.91 / 0.15  0.78 / 0.097  0.88 / 0.13  0.91 / 0.0059  0.91 / 0.021   \n",
      "H5     0.83 / 0.13   0.73 / 0.21  0.82 / 0.17    0.81 / 0.14   0.89 / 0.24   \n",
      "H6     0.78 / 0.36   0.75 / 0.52  0.81 / 0.49    0.75 / 0.14   0.74 / 0.18   \n",
      "\n",
      "test            H6  \n",
      "train               \n",
      "H1     0.44 / 0.24  \n",
      "H2      0.36 / 0.5  \n",
      "H3     0.44 / 0.23  \n",
      "H4      0.45 / 0.1  \n",
      "H5     0.46 / 0.31  \n",
      "H6     0.46 / 0.53  \n",
      "test       H1      H2      H3      H4      H5      H6\n",
      "train                                                \n",
      "H1     0.7989  0.6572  0.7951  0.8036  0.7483  0.3553\n",
      "H2     0.5981  0.6528  0.5957  0.7366  0.5440  0.4395\n",
      "H3     0.7960  0.7009  0.8130  0.8244  0.7679  0.3544\n",
      "H4     0.8311  0.6508  0.7956  0.8328  0.8380  0.3149\n",
      "H5     0.7103  0.5962  0.7044  0.6880  0.8044  0.3921\n",
      "H6     0.6775  0.6677  0.7282  0.6106  0.6100  0.4972\n",
      "test            H1            H2           H3             H4            H5  \\\n",
      "train                                                                        \n",
      "H1     0.88 / 0.26   0.78 / 0.26  0.88 / 0.34   0.89 / 0.083  0.86 / 0.014   \n",
      "H2      0.73 / 0.2   0.73 / 0.52  0.72 / 0.29    0.84 / 0.29   0.68 / 0.18   \n",
      "H3     0.88 / 0.23   0.81 / 0.35  0.89 / 0.39     0.9 / 0.17   0.87 / 0.07   \n",
      "H4     0.91 / 0.15  0.78 / 0.097  0.88 / 0.13  0.91 / 0.0059  0.91 / 0.021   \n",
      "H5     0.83 / 0.13   0.73 / 0.21  0.82 / 0.17    0.81 / 0.14   0.89 / 0.24   \n",
      "H6     0.78 / 0.36   0.75 / 0.52  0.81 / 0.49    0.75 / 0.14   0.74 / 0.18   \n",
      "\n",
      "test            H6  \n",
      "train               \n",
      "H1     0.44 / 0.24  \n",
      "H2      0.36 / 0.5  \n",
      "H3     0.44 / 0.23  \n",
      "H4      0.45 / 0.1  \n",
      "H5     0.46 / 0.31  \n",
      "H6     0.46 / 0.53  \n",
      "test       H1      H2      H3      H4      H5      H6\n",
      "train                                                \n",
      "H1     0.7989  0.6572  0.7951  0.8036  0.7483  0.3553\n",
      "H2     0.5981  0.6528  0.5957  0.7366  0.5440  0.4395\n",
      "H3     0.7960  0.7009  0.8130  0.8244  0.7679  0.3544\n",
      "H4     0.8311  0.6508  0.7956  0.8328  0.8380  0.3149\n",
      "H5     0.7103  0.5962  0.7044  0.6880  0.8044  0.3921\n",
      "H6     0.6775  0.6677  0.7282  0.6106  0.6100  0.4972\n"
     ]
    }
   ],
   "source": [
    "for cv in ['CV', 'noCV']:\n",
    "    fname = f'full_{cv}_zeroFill'\n",
    "    for m in ['F1s', 'Accuracy']:\n",
    "        create_test_train_table(result_type='Nonparametric', result_file=fname, metric=m)\n",
    "        "
   ]
  },
  {
   "cell_type": "code",
   "execution_count": null,
   "metadata": {},
   "outputs": [],
   "source": []
  }
 ],
 "metadata": {
  "kernelspec": {
   "display_name": "Python 3",
   "language": "python",
   "name": "python3"
  },
  "language_info": {
   "codemirror_mode": {
    "name": "ipython",
    "version": 3
   },
   "file_extension": ".py",
   "mimetype": "text/x-python",
   "name": "python",
   "nbconvert_exporter": "python",
   "pygments_lexer": "ipython3",
   "version": "3.7.4"
  }
 },
 "nbformat": 4,
 "nbformat_minor": 4
}
