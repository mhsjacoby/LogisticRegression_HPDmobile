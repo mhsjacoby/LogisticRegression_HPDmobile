{
 "cells": [
  {
   "cell_type": "code",
   "execution_count": 2,
   "metadata": {},
   "outputs": [],
   "source": [
    "import os\n",
    "import sys\n",
    "import numpy as np\n",
    "import pandas as pd\n",
    "\n",
    "etl_dir = os.path.join(os.getcwd(), 'scripts')\n",
    "sys.path.append(etl_dir)\n",
    "\n",
    "from etl import ETL"
   ]
  },
  {
   "cell_type": "code",
   "execution_count": 4,
   "metadata": {},
   "outputs": [
    {
     "name": "stdout",
     "output_type": "stream",
     "text": [
      "/Users/maggie/Documents/Github/LogisticRegression_HPDmobile/configuration_files/H1_etl_config.yml\n",
      "1 etl configuration file(s) found for H1\n",
      "Using: H1_etl_config.yml\n",
      "Using hubs: ['RS1']\n",
      "Creating new datasets for H1...\n",
      "Train days: 18\n",
      "Test days: 12\n"
     ]
    }
   ],
   "source": [
    "\n",
    "home = 'H1'\n",
    "\n",
    "Data = ETL(H_num=home)\n",
    "Data.generate_dataset(hub='RS1')"
   ]
  },
  {
   "cell_type": "code",
   "execution_count": null,
   "metadata": {},
   "outputs": [],
   "source": [
    "Data.df"
   ]
  }
 ],
 "metadata": {
  "kernelspec": {
   "display_name": "Python 3",
   "language": "python",
   "name": "python3"
  },
  "language_info": {
   "codemirror_mode": {
    "name": "ipython",
    "version": 3
   },
   "file_extension": ".py",
   "mimetype": "text/x-python",
   "name": "python",
   "nbconvert_exporter": "python",
   "pygments_lexer": "ipython3",
   "version": "3.7.4"
  }
 },
 "nbformat": 4,
 "nbformat_minor": 4
}
